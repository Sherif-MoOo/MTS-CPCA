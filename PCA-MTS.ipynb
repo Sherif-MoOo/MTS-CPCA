{
 "cells": [
  {
   "cell_type": "code",
   "execution_count": 480,
   "id": "a76a0315",
   "metadata": {},
   "outputs": [],
   "source": [
    "import numpy  as np\n",
    "import pandas as pd\n",
    "import h5py\n",
    "import tensorflow as tf\n",
    "import matplotlib.pyplot as plt\n",
    "from sklearn import preprocessing"
   ]
  },
  {
   "cell_type": "code",
   "execution_count": 481,
   "id": "775e36a0",
   "metadata": {},
   "outputs": [],
   "source": [
    "with h5py.File('data.h5', 'r') as hf:\n",
    "    X = hf['EEG_values'][:]             #Samples tensor\n",
    "    y = hf['target_values'][:]          #Targets matrix"
   ]
  },
  {
   "cell_type": "code",
   "execution_count": 482,
   "id": "2ee56ccd",
   "metadata": {},
   "outputs": [
    {
     "data": {
      "text/plain": [
       "(2444, 640, 14)"
      ]
     },
     "execution_count": 482,
     "metadata": {},
     "output_type": "execute_result"
    }
   ],
   "source": [
    "X.shape"
   ]
  },
  {
   "cell_type": "code",
   "execution_count": 483,
   "id": "c2c672c5",
   "metadata": {},
   "outputs": [
    {
     "data": {
      "text/plain": [
       "1194"
      ]
     },
     "execution_count": 483,
     "metadata": {},
     "output_type": "execute_result"
    }
   ],
   "source": [
    "No_Activity_Events = np.where(y==0)[0]\n",
    "len(No_Activity_Events)"
   ]
  },
  {
   "cell_type": "code",
   "execution_count": 484,
   "id": "701f7bb6",
   "metadata": {},
   "outputs": [
    {
     "data": {
      "image/png": "[encoded data removed]",
      "text/plain": [
       "<Figure size 720x720 with 1 Axes>"
      ]
     },
     "metadata": {
      "needs_background": "light"
     },
     "output_type": "display_data"
    }
   ],
   "source": [
    "No_Activity_Events = np.where(y==0)[0]\n",
    "len(No_Activity_Events)\n",
    "Events = pd.Series(y).to_frame().rename(columns={0: \"Events\"})['Events'].astype(str)\n",
    "type_counts = Events.value_counts()\n",
    "Coutns = type_counts.sum(axis = 0)\n",
    "for i in range(len(type_counts)):\n",
    "    type_counts.iloc[i] = int((type_counts.iloc[i]/Coutns)*100)\n",
    "ax =type_counts.plot(kind='bar' , figsize =(10,10)  , fontsize = 12);\n",
    "plt.suptitle('Data_Balance', fontsize=18);\n",
    "plt.ylabel('Percentage', fontsize=18);\n",
    "plt.xlabel('Events', fontsize=18);"
   ]
  },
  {
   "cell_type": "code",
   "execution_count": 485,
   "id": "4d654b8d",
   "metadata": {},
   "outputs": [
    {
     "data": {
      "text/plain": [
       "'list_=[]\\nfor i in range (0, len(No_Activity_Events), 2):\\n    list_ = list_ + [No_Activity_Events[i]]\\ny = np.delete(y, list_, 0)\\nX = np.delete(X, list_, 0)\\nNo_Activity_Events = np.where(y==0)[0]\\nlist_=[]\\nfor i in range (0, len(No_Activity_Events), 2):\\n    list_ = list_ + [No_Activity_Events[i]]\\ny = np.delete(y, list_, 0)\\nX = np.delete(X, list_, 0)\\nNo_Activity_Events = np.where(y==0)[0]\\nlen(No_Activity_Events)'"
      ]
     },
     "execution_count": 485,
     "metadata": {},
     "output_type": "execute_result"
    }
   ],
   "source": [
    "'''list_=[]\n",
    "for i in range (0, len(No_Activity_Events), 2):\n",
    "    list_ = list_ + [No_Activity_Events[i]]\n",
    "y = np.delete(y, list_, 0)\n",
    "X = np.delete(X, list_, 0)\n",
    "No_Activity_Events = np.where(y==0)[0]\n",
    "list_=[]\n",
    "for i in range (0, len(No_Activity_Events), 2):\n",
    "    list_ = list_ + [No_Activity_Events[i]]\n",
    "y = np.delete(y, list_, 0)\n",
    "X = np.delete(X, list_, 0)\n",
    "No_Activity_Events = np.where(y==0)[0]\n",
    "len(No_Activity_Events)'''"
   ]
  },
  {
   "cell_type": "code",
   "execution_count": 486,
   "id": "da071ede",
   "metadata": {},
   "outputs": [],
   "source": [
    "#Input tensor X as shape of M: Samples , ni: length of time sereis , m: Numper of features "
   ]
  },
  {
   "cell_type": "code",
   "execution_count": 492,
   "id": "6e92dbc4",
   "metadata": {},
   "outputs": [],
   "source": [
    "Index_Samples             = 0\n",
    "Index_length_time_sereis  = 1\n",
    "Index_features            = 2\n",
    "\n",
    "#mean of each sample per m features cross ni length\n",
    "mean_vector_i = tf.divide(tf.reduce_sum(X, Index_length_time_sereis), X.shape[Index_length_time_sereis])\n",
    "#This result in tensor of shape (M , m)\n",
    "\n",
    "#Now broad castting the tensor intp (M, ni ,m)\n",
    "mean_vector_i = np.tile(mean_vector_i, (1,X.shape[Index_length_time_sereis])).reshape(X.shape[Index_Samples],\n",
    "                                                                                      X.shape[Index_length_time_sereis],\n",
    "                                                                                      X.shape[Index_features])\n",
    "\n",
    "X_normalized  = tf.subtract(X,mean_vector_i)"
   ]
  },
  {
   "cell_type": "code",
   "execution_count": null,
   "id": "c7c9940a",
   "metadata": {},
   "outputs": [],
   "source": []
  },
  {
   "cell_type": "code",
   "execution_count": 494,
   "id": "f125f47b",
   "metadata": {},
   "outputs": [
    {
     "data": {
      "text/plain": [
       "<tf.Tensor: shape=(2444, 640, 14), dtype=float32, numpy=\n",
       "array([[[ -2.9291992 ,  -9.145508  , -11.346191  , ...,  -6.840332  ,\n",
       "         -36.887207  , -12.262207  ],\n",
       "        [  0.66308594,   0.08349609,  -6.7314453 , ...,  -0.6826172 ,\n",
       "         -33.302246  ,   2.6069336 ],\n",
       "        [ 15.533203  ,  23.162598  ,  12.247559  , ...,  12.133789  ,\n",
       "         -14.838379  ,  25.172363  ],\n",
       "        ...,\n",
       "        [  3.2250977 ,   4.697754  ,   4.553711  , ...,  -4.2753906 ,\n",
       "           3.6254883 ,  -6.626465  ],\n",
       "        [ -0.3671875 ,   2.6469727 ,  -3.6523438 , ...,  -2.2202148 ,\n",
       "          12.857422  ,  -6.111328  ],\n",
       "        [ -3.4399414 ,  -2.9926758 , -10.826172  , ...,  -4.2753906 ,\n",
       "          11.317383  , -14.830078  ]],\n",
       "\n",
       "       [[  7.425293  ,  -0.23535156,  -4.2421875 , ...,  -0.53027344,\n",
       "          15.873047  ,  -6.8945312 ],\n",
       "        [  1.2709961 ,  -3.3115234 ,  -4.7539062 , ...,  -1.0400391 ,\n",
       "           6.6411133 ,  -9.455078  ],\n",
       "        [ -7.4536133 , -11.002441  , -10.400391  , ...,  -6.6796875 ,\n",
       "          -1.0507812 , -18.17334   ],\n",
       "        ...,\n",
       "        [  8.446777  ,  13.094727  ,   5.4995117 , ...,   7.164551  ,\n",
       "          14.341309  ,   0.80126953],\n",
       "        [ -1.8100586 ,   5.404297  ,  -6.8095703 , ...,  -7.7070312 ,\n",
       "           8.181152  , -21.256348  ],\n",
       "        [ -0.78027344,   2.328125  ,  -8.856934  , ..., -10.271973  ,\n",
       "           6.6411133 , -19.203613  ]],\n",
       "\n",
       "       [[  9.248047  ,  10.036133  ,   9.7890625 , ...,  12.445801  ,\n",
       "          32.301758  ,  25.45459   ],\n",
       "        [ 10.269531  ,   4.9091797 ,   8.765625  , ...,  10.390625  ,\n",
       "          28.203125  ,  24.946777  ],\n",
       "        [  7.7075195 ,   4.3964844 ,   6.709961  , ...,   6.288574  ,\n",
       "          21.538086  ,  23.916992  ],\n",
       "        ...,\n",
       "        [ -8.703613  ,  -9.446777  ,  -5.086914  , ...,  -4.9907227 ,\n",
       "          -9.750977  , -11.97998   ],\n",
       "        [ -7.163086  , -12.010254  ,  -2.5195312 , ...,  -7.0458984 ,\n",
       "         -21.541504  ,  -7.8745117 ],\n",
       "        [ -5.6220703 , -11.497559  ,   1.0712891 , ...,  -7.555664  ,\n",
       "         -21.541504  ,  -8.389648  ]],\n",
       "\n",
       "       ...,\n",
       "\n",
       "       [[ 28.908203  ,  46.28955   ,   1.6074219 , ..., -10.675781  ,\n",
       "          -8.82959   ,   1.8369141 ],\n",
       "        [ 31.98584   ,  46.797363  ,   8.271973  , ...,  -5.0356445 ,\n",
       "          -1.6533203 ,   2.8637695 ],\n",
       "        [ 37.11377   ,  54.484375  ,   8.785156  , ...,  -1.4453125 ,\n",
       "          -3.7045898 ,   3.890625  ],\n",
       "        ...,\n",
       "        [  0.18603516, -14.745117  ,  -7.6245117 , ..., -15.802734  ,\n",
       "         -24.215332  , -18.671387  ],\n",
       "        [  6.341797  ,  -3.456543  ,   1.0942383 , ...,  -4.008789  ,\n",
       "         -17.550293  , -16.10791   ],\n",
       "        [  2.7529297 ,  -3.456543  ,   7.7612305 , ...,   2.1445312 ,\n",
       "          -9.857422  , -16.10791   ]],\n",
       "\n",
       "       [[  5.8447266 ,   1.3432617 ,  10.739746  , ...,   6.0893555 ,\n",
       "           0.703125  ,   9.801758  ],\n",
       "        [  3.7949219 ,  -6.3554688 ,   2.020996  , ...,   5.0625    ,\n",
       "          -3.915039  ,   7.2382812 ],\n",
       "        [ -6.977539  , -14.04248   ,  -1.5678711 , ...,   0.44580078,\n",
       "         -10.580078  ,  -5.069824  ],\n",
       "        ...,\n",
       "        [  0.7167969 ,  -1.2192383 ,  -0.54345703, ..., -21.605469  ,\n",
       "         -25.453613  ,  -4.0429688 ],\n",
       "        [  2.7666016 ,  -4.8085938 ,   2.020996  , ..., -18.52832   ,\n",
       "         -22.88623   ,  -2.5058594 ],\n",
       "        [  2.2558594 ,   6.4677734 ,   1.5073242 , ..., -13.3984375 ,\n",
       "         -14.17041   ,   3.6479492 ]],\n",
       "\n",
       "       [[ -3.0136719 ,  20.858398  ,  -3.6137695 , ...,  -3.7578125 ,\n",
       "          -9.666504  ,  -5.6484375 ],\n",
       "        [-10.702148  ,  16.760742  , -12.846191  , ...,  -6.834961  ,\n",
       "         -18.386719  , -12.829102  ],\n",
       "        [-13.779785  ,  15.225586  , -13.356445  , ...,  -4.784668  ,\n",
       "         -13.768555  , -18.466309  ],\n",
       "        ...,\n",
       "        [ -1.9858398 , -14.010254  ,   1.0019531 , ...,  -1.7080078 ,\n",
       "         -14.284668  ,   9.73291   ],\n",
       "        [ 11.347168  ,  -6.3120117 ,   9.720703  , ...,  16.75293   ,\n",
       "          -1.4619141 ,  17.940918  ],\n",
       "        [ 27.24707   ,   1.375     ,  20.490234  , ...,  27.010254  ,\n",
       "          11.36084   ,  25.631348  ]]], dtype=float32)>"
      ]
     },
     "execution_count": 494,
     "metadata": {},
     "output_type": "execute_result"
    }
   ],
   "source": []
  },
  {
   "cell_type": "code",
   "execution_count": null,
   "id": "072ca8c5",
   "metadata": {},
   "outputs": [],
   "source": []
  }
 ],
 "metadata": {
  "kernelspec": {
   "display_name": "Python 3",
   "language": "python",
   "name": "python3"
  },
  "language_info": {
   "codemirror_mode": {
    "name": "ipython",
    "version": 3
   },
   "file_extension": ".py",
   "mimetype": "text/x-python",
   "name": "python",
   "nbconvert_exporter": "python",
   "pygments_lexer": "ipython3",
   "version": "3.8.8"
  }
 },
 "nbformat": 4,
 "nbformat_minor": 5
}
